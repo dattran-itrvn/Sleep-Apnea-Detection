{
 "cells": [
  {
   "cell_type": "code",
   "execution_count": 3,
   "metadata": {},
   "outputs": [
    {
     "name": "stderr",
     "output_type": "stream",
     "text": [
      "2024-11-28 16:57:17.506130: I tensorflow/core/util/port.cc:153] oneDNN custom operations are on. You may see slightly different numerical results due to floating-point round-off errors from different computation orders. To turn them off, set the environment variable `TF_ENABLE_ONEDNN_OPTS=0`.\n",
      "2024-11-28 16:57:17.513486: E external/local_xla/xla/stream_executor/cuda/cuda_fft.cc:477] Unable to register cuFFT factory: Attempting to register factory for plugin cuFFT when one has already been registered\n",
      "WARNING: All log messages before absl::InitializeLog() is called are written to STDERR\n",
      "E0000 00:00:1732787837.522516 1078332 cuda_dnn.cc:8310] Unable to register cuDNN factory: Attempting to register factory for plugin cuDNN when one has already been registered\n",
      "E0000 00:00:1732787837.525104 1078332 cuda_blas.cc:1418] Unable to register cuBLAS factory: Attempting to register factory for plugin cuBLAS when one has already been registered\n",
      "2024-11-28 16:57:17.534599: I tensorflow/core/platform/cpu_feature_guard.cc:210] This TensorFlow binary is optimized to use available CPU instructions in performance-critical operations.\n",
      "To enable the following instructions: AVX2 AVX_VNNI FMA, in other operations, rebuild TensorFlow with the appropriate compiler flags.\n",
      "I0000 00:00:1732787838.645838 1078332 gpu_device.cc:2022] Created device /job:localhost/replica:0/task:0/device:GPU:0 with 6808 MB memory:  -> device: 0, name: NVIDIA GeForce RTX 2070 SUPER, pci bus id: 0000:01:00.0, compute capability: 7.5\n"
     ]
    }
   ],
   "source": [
    "import tensorflow as tf\n",
    "import keras\n",
    "import numpy as np\n",
    "from sklearn.metrics import classification_report, confusion_matrix\n",
    "# from model.configurations import WINDOW_SIZE, N_CHANNELS\n",
    "from training.train import load_tfrecord_dataset\n",
    "\n",
    "\n",
    "model = \"/home/phatdat/Desktop/Sleep-Apnea-Detection/model/checkpoints/best_params_10epochs.keras\"\n",
    "model = keras.models.load_model(model)"
   ]
  },
  {
   "cell_type": "code",
   "execution_count": 4,
   "metadata": {},
   "outputs": [],
   "source": [
    "train_set, _ = load_tfrecord_dataset(\"/mnt/dat/prepped/apnea_sp02_pr/train.tfrecord\", batch_size=1024, shuffle=False)\n",
    "test_set, _ = load_tfrecord_dataset(\"/mnt/dat/prepped/apnea_sp02_pr/test.tfrecord\", batch_size=1024, shuffle=False)"
   ]
  },
  {
   "cell_type": "code",
   "execution_count": 5,
   "metadata": {},
   "outputs": [],
   "source": [
    "def get_true_pred(model, dataset, batch_size):\n",
    "    y_pred_prob = model.predict(dataset, batch_size=batch_size)\n",
    "    y_true = []\n",
    "    for _, y in dataset:\n",
    "        y_true.append(y.numpy())\n",
    "    y_true = np.vstack(y_true)\n",
    "    return y_true, y_pred_prob"
   ]
  },
  {
   "cell_type": "code",
   "execution_count": 6,
   "metadata": {},
   "outputs": [
    {
     "name": "stderr",
     "output_type": "stream",
     "text": [
      "2024-11-28 16:57:19.147839: I tensorflow/core/kernels/data/tf_record_dataset_op.cc:370] TFRecordDataset `buffer_size` is unspecified, default to 262144\n",
      "I0000 00:00:1732787839.176721 1078332 cuda_dnn.cc:529] Loaded cuDNN version 90300\n"
     ]
    },
    {
     "name": "stdout",
     "output_type": "stream",
     "text": [
      "\u001b[1m1592/1592\u001b[0m \u001b[32m━━━━━━━━━━━━━━━━━━━━\u001b[0m\u001b[37m\u001b[0m \u001b[1m9s\u001b[0m 6ms/step\n"
     ]
    },
    {
     "name": "stderr",
     "output_type": "stream",
     "text": [
      "2024-11-28 16:57:28.569805: I tensorflow/core/framework/local_rendezvous.cc:405] Local rendezvous is aborting with status: OUT_OF_RANGE: End of sequence\n",
      "/usr/lib/python3.10/contextlib.py:153: UserWarning: Your input ran out of data; interrupting training. Make sure that your dataset or generator can generate at least `steps_per_epoch * epochs` batches. You may need to use the `.repeat()` function when building your dataset.\n",
      "  self.gen.throw(typ, value, traceback)\n"
     ]
    },
    {
     "name": "stdout",
     "output_type": "stream",
     "text": [
      "     28/Unknown \u001b[1m0s\u001b[0m 6ms/step"
     ]
    },
    {
     "name": "stderr",
     "output_type": "stream",
     "text": [
      "2024-11-28 16:57:38.183502: I tensorflow/core/framework/local_rendezvous.cc:405] Local rendezvous is aborting with status: OUT_OF_RANGE: End of sequence\n"
     ]
    },
    {
     "name": "stdout",
     "output_type": "stream",
     "text": [
      "\u001b[1m1820/1820\u001b[0m \u001b[32m━━━━━━━━━━━━━━━━━━━━\u001b[0m\u001b[37m\u001b[0m \u001b[1m11s\u001b[0m 6ms/step\n"
     ]
    },
    {
     "name": "stderr",
     "output_type": "stream",
     "text": [
      "2024-11-28 16:57:59.759659: I tensorflow/core/framework/local_rendezvous.cc:405] Local rendezvous is aborting with status: OUT_OF_RANGE: End of sequence\n"
     ]
    }
   ],
   "source": [
    "y_train_true, y_train_pred_prob = get_true_pred(model, train_set, batch_size=1024)\n",
    "y_test_true, y_test_pred_prob = get_true_pred(model, test_set, batch_size=1024)"
   ]
  },
  {
   "cell_type": "code",
   "execution_count": 40,
   "metadata": {},
   "outputs": [],
   "source": [
    "def sen_spec(y_true, y_pred_probs, threshold=None):\n",
    "    \"\"\"\n",
    "    Calculate the geometric mean (G-mean) for a given threshold.\n",
    "    \"\"\"\n",
    "    # Convert predicted probabilities to binary predictions based on threshold\n",
    "    if threshold is None:\n",
    "        y_pred = y_pred_probs\n",
    "    else:\n",
    "        y_pred = (y_pred_probs >= threshold).astype(int)\n",
    "        \n",
    "    # Compute confusion matrix\n",
    "    tn, fp, fn, tp = confusion_matrix(y_true, y_pred).ravel()\n",
    "\n",
    "    # Compute sensitivity and specificity\n",
    "    sensitivity = tp / (tp + fn) if (tp + fn) > 0 else 0\n",
    "    specificity = tn / (tn + fp) if (tn + fp) > 0 else 0\n",
    "\n",
    "    return sensitivity, specificity\n",
    "\n",
    "def optimize_threshold(y_true, y_pred_probs):\n",
    "    \"\"\"\n",
    "    Find the threshold that maximizes the G-mean for binary classification.\n",
    "    \"\"\"\n",
    "    best_threshold = -1\n",
    "    best_gmean = -1\n",
    "    thresholds = np.linspace(0, 0.2, 101)\n",
    "\n",
    "    for threshold in thresholds:\n",
    "        sensitivity, specificity = sen_spec(y_true, y_pred_probs, threshold)\n",
    "        gmean = np.sqrt(sensitivity * specificity)\n",
    "\n",
    "        if gmean > best_gmean:\n",
    "            best_gmean = gmean\n",
    "            best_threshold = threshold\n",
    "\n",
    "    return best_threshold, best_gmean"
   ]
  },
  {
   "cell_type": "code",
   "execution_count": 61,
   "metadata": {},
   "outputs": [
    {
     "data": {
      "text/plain": [
       "(np.float64(0.02), np.float64(0.8701193512121673))"
      ]
     },
     "execution_count": 61,
     "metadata": {},
     "output_type": "execute_result"
    }
   ],
   "source": [
    "best_threshold, best_gmean = optimize_threshold(y_train_true.flatten(), y_train_pred_prob.flatten())\n",
    "best_threshold, best_gmean"
   ]
  },
  {
   "cell_type": "code",
   "execution_count": 65,
   "metadata": {},
   "outputs": [],
   "source": [
    "y_test_pred = (y_test_pred_prob >= 0.1).astype(int)"
   ]
  },
  {
   "cell_type": "code",
   "execution_count": 64,
   "metadata": {},
   "outputs": [
    {
     "name": "stdout",
     "output_type": "stream",
     "text": [
      "              precision    recall  f1-score   support\n",
      "\n",
      "           0       0.99      0.90      0.94   1805216\n",
      "           1       0.19      0.74      0.31     57852\n",
      "\n",
      "    accuracy                           0.90   1863068\n",
      "   macro avg       0.59      0.82      0.62   1863068\n",
      "weighted avg       0.97      0.90      0.92   1863068\n",
      "\n"
     ]
    }
   ],
   "source": [
    "print(classification_report(y_test_true, y_test_pred))"
   ]
  },
  {
   "cell_type": "code",
   "execution_count": 66,
   "metadata": {},
   "outputs": [
    {
     "data": {
      "text/plain": [
       "(np.float64(0.5164212127497753), np.float64(0.9728137796252637))"
      ]
     },
     "execution_count": 66,
     "metadata": {},
     "output_type": "execute_result"
    }
   ],
   "source": [
    "sensitivity, specificity = sen_spec(y_test_true, y_test_pred)\n",
    "sensitivity, specificity"
   ]
  },
  {
   "cell_type": "code",
   "execution_count": 1,
   "metadata": {},
   "outputs": [
    {
     "data": {
      "text/plain": [
       "'_abc'"
      ]
     },
     "execution_count": 1,
     "metadata": {},
     "output_type": "execute_result"
    }
   ],
   "source": [
    "train_path = \"alsdjflaoinog/asdfjowinfas/jakjho/train_abc.tfrecord\"\n",
    "\n",
    "\n",
    "mid_name = train_path[train_path.rfind(\"/\") + 1:]\n",
    "mid_name = mid_name[len(\"train\"):-len(\"tf.record\")]\n",
    "mid_name"
   ]
  },
  {
   "cell_type": "code",
   "execution_count": null,
   "metadata": {},
   "outputs": [],
   "source": []
  }
 ],
 "metadata": {
  "kernelspec": {
   "display_name": ".venv",
   "language": "python",
   "name": "python3"
  },
  "language_info": {
   "codemirror_mode": {
    "name": "ipython",
    "version": 3
   },
   "file_extension": ".py",
   "mimetype": "text/x-python",
   "name": "python",
   "nbconvert_exporter": "python",
   "pygments_lexer": "ipython3",
   "version": "3.10.12"
  }
 },
 "nbformat": 4,
 "nbformat_minor": 2
}
